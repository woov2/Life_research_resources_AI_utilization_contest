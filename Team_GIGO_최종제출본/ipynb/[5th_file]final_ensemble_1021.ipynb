{
 "cells": [
  {
   "cell_type": "markdown",
   "metadata": {
    "id": "Tm9KV33HZJyL"
   },
   "source": [
    "# 암환자 유전체 데이터 기반 암종 분류 AI 모델 개발\n",
    "\n",
    "\n",
    "- '2024 생명연구자원 AI활용 경진대회'는 바이오 데이터를 기반으로 한 AI 기술의 문제 해결 능력을 탐구하는 것을 목표로 합니다. <br>이 대회는 바이오 분야에서 AI 활용의 저변을 확대하고, 복잡한 바이오 데이터를 효율적으로 분석 및 해석할 수 있는 AI 알고리즘 개발에 초점을 맞추고 있습니다. <br><br>\n",
    "- 본 대회의 구체적인 과제는 암환자 유전체 데이터의 변이 정보를 활용하여 암종을 분류하는 AI 모델을 개발하는 것입니다. <br>참가자들은 제공된 학습 데이터셋(암환자 유전체 변이 정보)을 사용하여 특정 변이 정보를 바탕으로 암종을 정확하게 분류할 수 있는 AI 알고리즘을 개발해야 합니다. <br><br>\n",
    "- 이 대회의 궁극적인 목적은 바이오 데이터의 활용도를 높이고, 바이오 분야에서 AI 기술의 적용 가능성을 극대화하며, 인공지능 기술이 실제 바이오 의료 문제 해결에 어떻게 기여할 수 있는지 탐구하는 것입니다."
   ]
  },
  {
   "cell_type": "markdown",
   "metadata": {
    "id": "oA0H0as2ZJyN"
   },
   "source": []
  },
  {
   "cell_type": "markdown",
   "metadata": {},
   "source": [
    "# VERSIONS #\n",
    "### GPU 0 : NVIDIA GeForce RTX 3080 Ti Laptop GPU\n",
    "### GPU 1 : AMD Radeon(TM) Graphics\n",
    "### CPU : AMD Ryzen 9 6900HX with Radeon Graphics\n",
    "\n",
    "### -------------------------- Python & library version --------------------------\n",
    "### Python version: 3.9.13 (main, Aug 25 2022, 23:51:50) [MSC v.1916 64 bit (AMD64)]\n",
    "### pandas version: 2.0.3\n",
    "### numpy version: 1.21.5\n",
    "### matplotlib version: 3.5.2\n",
    "### tqdm version: 4.64.1\n",
    "### xgboost version: 1.7.2\n",
    "### lightgbm version: 3.3.3\n",
    "### catboost version: 1.1.1\n",
    "### scikit-learn version: 1.0.2\n",
    "------------------------------------------------------------------------------"
   ]
  },
  {
   "cell_type": "code",
   "execution_count": 81,
   "metadata": {
    "colab": {
     "base_uri": "https://localhost:8080/"
    },
    "executionInfo": {
     "elapsed": 4032,
     "status": "ok",
     "timestamp": 1725458086707,
     "user": {
      "displayName": "이상준",
      "userId": "08021772779193988298"
     },
     "user_tz": -540
    },
    "id": "4cG6WDWfZJyN",
    "outputId": "4011b4b9-fe8b-4653-9b9c-bd4609a2aa25"
   },
   "outputs": [],
   "source": [
    "# <!-- from google.colab import drive\n",
    "# drive.mount('/content/drive')# Import library -->\n",
    "import numpy as np\n",
    "import pandas as pd\n",
    "from sklearn.preprocessing import LabelEncoder, OrdinalEncoder\n",
    "import xgboost as xgb\n",
    "from tqdm import tqdm  # tqdm 임포트\n",
    "import random\n",
    "import os\n",
    "def seed_everything(seed):\n",
    "    random.seed(seed)\n",
    "    os.environ['PYTHONHASHSEED'] = str(seed)\n",
    "    np.random.seed(seed)\n",
    "    \n",
    "seed_everything(42) # Seed 고정"
   ]
  },
  {
   "cell_type": "code",
   "execution_count": 82,
   "metadata": {},
   "outputs": [],
   "source": [
    "# Read ML Predict Proba\n",
    "LGBM = pd.read_csv('LGBM_FINAL_PROBA.csv')\n"
   ]
  },
  {
   "cell_type": "code",
   "execution_count": 83,
   "metadata": {},
   "outputs": [],
   "source": [
    "# Read DL Predict Proba (Xtransformer and Saint sub)\n",
    "\n",
    "xtf = pd.read_csv('final_xtf_proba.csv')\n",
    "\n",
    "submission_saint_1 = pd.read_csv('saint_transformer_predict_proba_real_final.csv')\n",
    "submission_saint_2 = pd.read_csv('saint_transformer_predict_proba_real_final_41.csv')\n",
    "submission_saint_3 = pd.read_csv('saint_transformer_predict_proba_real_final_1004.csv')"
   ]
  },
  {
   "cell_type": "code",
   "execution_count": 84,
   "metadata": {},
   "outputs": [],
   "source": [
    "# softmax 함수 정의\n",
    "def softmax(x):\n",
    "    e_x = np.exp(x - np.max(x))  # 안정성을 위해 입력에서 최대값을 뺌\n",
    "    return e_x / e_x.sum(axis=0)\n",
    "\n",
    "values_1 = submission_saint_1.iloc[:,1:].apply(softmax, axis=1)\n",
    "values_2 = submission_saint_2.iloc[:,1:].apply(softmax, axis=1)\n",
    "values_3 = submission_saint_3.iloc[:,1:].apply(softmax, axis=1)\n",
    "\n",
    "valuees = (values_1+values_2+values_3)/3"
   ]
  },
  {
   "cell_type": "code",
   "execution_count": 85,
   "metadata": {},
   "outputs": [],
   "source": [
    "final = pd.DataFrame((valuees.values + xtf.values ) /2)"
   ]
  },
  {
   "cell_type": "code",
   "execution_count": 86,
   "metadata": {},
   "outputs": [],
   "source": [
    "data = (LGBM.values * 0.2  + final.values * 0.8)"
   ]
  },
  {
   "cell_type": "code",
   "execution_count": 87,
   "metadata": {},
   "outputs": [],
   "source": [
    "submission_saint_1.iloc[:,1:]=data"
   ]
  },
  {
   "cell_type": "code",
   "execution_count": 88,
   "metadata": {},
   "outputs": [],
   "source": [
    "test_pred_labels_2 = submission_saint_1.iloc[:, 1:].idxmax(axis=1)"
   ]
  },
  {
   "cell_type": "code",
   "execution_count": 91,
   "metadata": {},
   "outputs": [
    {
     "data": {
      "text/plain": [
       "SUBCLASS\n",
       "COAD      543\n",
       "STES      232\n",
       "BRCA      230\n",
       "KIRC      183\n",
       "KIPAN     136\n",
       "PRAD      116\n",
       "LUAD      111\n",
       "SARC       95\n",
       "THCA       88\n",
       "GBMLGG     86\n",
       "SKCM       85\n",
       "LGG        80\n",
       "LIHC       76\n",
       "HNSC       75\n",
       "OV         63\n",
       "UCEC       55\n",
       "CESC       43\n",
       "PAAD       40\n",
       "BLCA       38\n",
       "TGCT       38\n",
       "LAML       35\n",
       "PCPG       34\n",
       "ACC        21\n",
       "THYM       18\n",
       "LUSC       15\n",
       "DLBC       10\n",
       "Name: count, dtype: int64"
      ]
     },
     "execution_count": 91,
     "metadata": {},
     "output_type": "execute_result"
    }
   ],
   "source": [
    "subb = pd.read_csv('sample_submission.csv')\n",
    "subb['SUBCLASS'] = test_pred_labels_2\n",
    "subb.to_csv('하응.csv', index=False)\n",
    "subb['SUBCLASS'].value_counts()"
   ]
  },
  {
   "cell_type": "markdown",
   "metadata": {},
   "source": [
    "# ML:DL 2:8"
   ]
  }
 ],
 "metadata": {
  "colab": {
   "provenance": []
  },
  "kernelspec": {
   "display_name": "Python 3 (ipykernel)",
   "language": "python",
   "name": "python3"
  },
  "language_info": {
   "codemirror_mode": {
    "name": "ipython",
    "version": 3
   },
   "file_extension": ".py",
   "mimetype": "text/x-python",
   "name": "python",
   "nbconvert_exporter": "python",
   "pygments_lexer": "ipython3",
   "version": "3.8.5"
  }
 },
 "nbformat": 4,
 "nbformat_minor": 1
}
